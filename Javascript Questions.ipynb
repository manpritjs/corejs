{
 "cells": [
  {
   "cell_type": "code",
   "execution_count": 25,
   "id": "e26d4983",
   "metadata": {},
   "outputs": [
    {
     "name": "stdout",
     "output_type": "stream",
     "text": [
      "\u001b[33m-56\u001b[39m\n"
     ]
    }
   ],
   "source": [
    "%%script node\n",
    "// From an existing array of numbers, find the first negative number\n",
    "const arr = [23, 45, -56, 21, -45, 36, -21, 72]\n",
    "const ans = arr.find(x=> x < 0)\n",
    "console.log(ans)"
   ]
  },
  {
   "cell_type": "code",
   "execution_count": 26,
   "id": "00277ffe",
   "metadata": {},
   "outputs": [
    {
     "name": "stdout",
     "output_type": "stream",
     "text": [
      "[ \u001b[32m'SOSEW'\u001b[39m, \u001b[32m'SIMAR'\u001b[39m ]\n"
     ]
    }
   ],
   "source": [
    "%%script node\n",
    "// Create a new array from existing array of words.Words in new array must have length = 5 and starts with \"S\"\n",
    "const arr = [\"SOSEW\", \"MTREFG\", \"RWSWQSA\", \"SIMAR\", \"MISSI\"]\n",
    "const ans = arr.filter(x => x.length === 5 && x.startsWith(\"S\"))\n",
    "console.log(ans)"
   ]
  },
  {
   "cell_type": "code",
   "execution_count": 27,
   "id": "3b071d13",
   "metadata": {},
   "outputs": [
    {
     "name": "stdout",
     "output_type": "stream",
     "text": [
      "[ \u001b[33m8\u001b[39m, \u001b[33m216\u001b[39m, \u001b[33m49\u001b[39m, \u001b[33m9\u001b[39m, \u001b[33m25\u001b[39m, \u001b[33m64\u001b[39m ]\n"
     ]
    }
   ],
   "source": [
    "%%script node\n",
    "// Create a new array from existing array of numbers.New array must contain:-\n",
    "// square of the number if number in existing array is odd\n",
    "// cube of the number if number in existing array is even\n",
    "const arr = [2, 6, 7, 3, 5, 4]\n",
    "const ans = arr.map(x => x%2 ? x**2 : x**3)\n",
    "console.log(ans)"
   ]
  },
  {
   "cell_type": "code",
   "execution_count": 28,
   "id": "104a7d77",
   "metadata": {},
   "outputs": [
    {
     "name": "stdout",
     "output_type": "stream",
     "text": [
      "\u001b[33m3\u001b[39m\n"
     ]
    }
   ],
   "source": [
    "%%script node\n",
    "// find count of negative numbers in an array\n",
    "const arr = [23, -21, 45, 23, -32, 56, -41, 18];\n",
    "const ans = arr.reduce((x, y) => y < 0 ? x+1 : x, 0)\n",
    "console.log(ans)"
   ]
  },
  {
   "cell_type": "code",
   "execution_count": 29,
   "id": "b78bf117",
   "metadata": {},
   "outputs": [
    {
     "name": "stdout",
     "output_type": "stream",
     "text": [
      "\u001b[33m3\u001b[39m\n"
     ]
    }
   ],
   "source": [
    "%%script node\n",
    "// find the count of words from the existing array, which are having \"A\"\n",
    "const arr = [\"Aght\", \"MHT\", \"SAQW\", \"FRN\", \"KALA\", \"RQS\", \"DDS\"]\n",
    "const ans = arr.reduce((x, y) => y.includes(\"A\") ? x+1 : x, 0)\n",
    "console.log(ans)"
   ]
  },
  {
   "cell_type": "code",
   "execution_count": 30,
   "id": "0e866945",
   "metadata": {},
   "outputs": [
    {
     "name": "stdout",
     "output_type": "stream",
     "text": [
      "[ \u001b[32m' Ajay Singh'\u001b[39m, \u001b[32m' Anjali Kumari'\u001b[39m, \u001b[32m' Rishi'\u001b[39m, \u001b[32m' Reeta Rani'\u001b[39m ]\n"
     ]
    }
   ],
   "source": [
    "%%script node\n",
    "// From an existing array of names, create a new array that contain names without title\n",
    "const arr = [\"Mr Ajay Singh\", \"Miss Anjali Kumari\", \"Mr Rishi\", \"Mrs Reeta Rani\"]\n",
    "const ans = arr.map(x => {\n",
    "    const pos = x.indexOf(\" \");\n",
    "    return x.slice(pos)\n",
    "})\n",
    "console.log(ans)"
   ]
  },
  {
   "cell_type": "code",
   "execution_count": 31,
   "id": "f7a2e11b",
   "metadata": {},
   "outputs": [
    {
     "name": "stdout",
     "output_type": "stream",
     "text": [
      "Miss Anjali Kumari\n"
     ]
    }
   ],
   "source": [
    "%%script node\n",
    "// From an existing array of names, find the name of first female\n",
    "const arr = [\"Mr Ajay Singh\", \"Miss Anjali Kumari\", \"Mr Rishi\", \"Mrs Reeta Rani\", \"Miss Jiya Sharma\"]\n",
    "const ans = arr.find(x => x.startsWith(\"Miss\") || x.startsWith(\"Mrs\"))\n",
    "console.log(ans)"
   ]
  },
  {
   "cell_type": "code",
   "execution_count": 32,
   "id": "6d254fbd",
   "metadata": {},
   "outputs": [
    {
     "name": "stdout",
     "output_type": "stream",
     "text": [
      "[\n",
      "  \u001b[32m'Ravi'\u001b[39m,    \u001b[32m'Reena'\u001b[39m,\n",
      "  \u001b[32m'Manav'\u001b[39m,   \u001b[32m'Ajay'\u001b[39m,\n",
      "  \u001b[32m'Sheetal'\u001b[39m, \u001b[32m'Amar'\u001b[39m,\n",
      "  \u001b[32m'Karan'\u001b[39m\n",
      "]\n"
     ]
    }
   ],
   "source": [
    "%%script node\n",
    "// From an existing array of names, Make a new array that contains names with first character capitalize \n",
    "const arr = [\"ravi\", \"reena\", \"Manav\", \"Ajay\", \"sheetal\", \"Amar\", \"karan\"]\n",
    "const ans = arr.map(x => {\n",
    "    first  = x.at(0);\n",
    "    rest = x.slice(1);\n",
    "    return first.toUpperCase()+rest;\n",
    "})\n",
    "\n",
    "console.log(ans)"
   ]
  }
 ],
 "metadata": {
  "kernelspec": {
   "display_name": "Python 3 (ipykernel)",
   "language": "python",
   "name": "python3"
  },
  "language_info": {
   "codemirror_mode": {
    "name": "ipython",
    "version": 3
   },
   "file_extension": ".py",
   "mimetype": "text/x-python",
   "name": "python",
   "nbconvert_exporter": "python",
   "pygments_lexer": "ipython3",
   "version": "3.12.3"
  }
 },
 "nbformat": 4,
 "nbformat_minor": 5
}
